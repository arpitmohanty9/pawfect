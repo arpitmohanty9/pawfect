{
 "cells": [
  {
   "cell_type": "code",
   "execution_count": 13,
   "metadata": {},
   "outputs": [],
   "source": [
    "from flask import Flask, jsonify, render_template, request\n",
    "import pandas as pd\n",
    "import numpy as np\n",
    "from flask_cors import CORS, cross_origin"
   ]
  },
  {
   "cell_type": "code",
   "execution_count": 14,
   "metadata": {},
   "outputs": [],
   "source": [
    "app = Flask(__name__)\n",
    "CORS(app)\n",
    "df = pd.read_csv('survey.csv')"
   ]
  },
  {
   "cell_type": "code",
   "execution_count": 15,
   "metadata": {},
   "outputs": [
    {
     "data": {
      "text/html": [
       "<div>\n",
       "<style scoped>\n",
       "    .dataframe tbody tr th:only-of-type {\n",
       "        vertical-align: middle;\n",
       "    }\n",
       "\n",
       "    .dataframe tbody tr th {\n",
       "        vertical-align: top;\n",
       "    }\n",
       "\n",
       "    .dataframe thead th {\n",
       "        text-align: right;\n",
       "    }\n",
       "</style>\n",
       "<table border=\"1\" class=\"dataframe\">\n",
       "  <thead>\n",
       "    <tr style=\"text-align: right;\">\n",
       "      <th></th>\n",
       "      <th>Breed</th>\n",
       "      <th>BreedEntity</th>\n",
       "      <th>StrangerDirectedAggression</th>\n",
       "      <th>OwnerDirectedAggression</th>\n",
       "      <th>DogDirectedAggression</th>\n",
       "      <th>StrangerDirectedFear</th>\n",
       "      <th>DogDirectedFear</th>\n",
       "      <th>NonsocialFear</th>\n",
       "      <th>DogRivalry</th>\n",
       "      <th>Trainability</th>\n",
       "      <th>Chasing</th>\n",
       "      <th>AttachmentAttentionSeeking</th>\n",
       "      <th>SeparationRelatedBehavior</th>\n",
       "      <th>TouchSensitivity</th>\n",
       "      <th>Excitability</th>\n",
       "      <th>EnergyLevel</th>\n",
       "    </tr>\n",
       "  </thead>\n",
       "  <tbody>\n",
       "    <tr>\n",
       "      <th>0</th>\n",
       "      <td>Mixed Breed/Unknown</td>\n",
       "      <td>NaN</td>\n",
       "      <td>0.0</td>\n",
       "      <td>0.0</td>\n",
       "      <td>0.00</td>\n",
       "      <td>1.0</td>\n",
       "      <td>0.0</td>\n",
       "      <td>1.000000</td>\n",
       "      <td>0.00</td>\n",
       "      <td>3.125</td>\n",
       "      <td>2.25</td>\n",
       "      <td>0.666667</td>\n",
       "      <td>0.000</td>\n",
       "      <td>0.50</td>\n",
       "      <td>0.666667</td>\n",
       "      <td>2.0</td>\n",
       "    </tr>\n",
       "    <tr>\n",
       "      <th>1</th>\n",
       "      <td>American Staffordshire Terrier</td>\n",
       "      <td>Entity[\"DogBreed\", \"AmericanStaffordshireTerri...</td>\n",
       "      <td>0.0</td>\n",
       "      <td>0.0</td>\n",
       "      <td>0.00</td>\n",
       "      <td>0.0</td>\n",
       "      <td>0.0</td>\n",
       "      <td>0.000000</td>\n",
       "      <td>0.00</td>\n",
       "      <td>1.625</td>\n",
       "      <td>0.00</td>\n",
       "      <td>1.500000</td>\n",
       "      <td>0.750</td>\n",
       "      <td>0.00</td>\n",
       "      <td>3.333333</td>\n",
       "      <td>1.0</td>\n",
       "    </tr>\n",
       "    <tr>\n",
       "      <th>2</th>\n",
       "      <td>Bernese Mountain Dog</td>\n",
       "      <td>Entity[\"DogBreed\", \"BerneseMountainDog\"]</td>\n",
       "      <td>0.2</td>\n",
       "      <td>0.0</td>\n",
       "      <td>0.25</td>\n",
       "      <td>0.0</td>\n",
       "      <td>0.0</td>\n",
       "      <td>0.166667</td>\n",
       "      <td>0.25</td>\n",
       "      <td>2.125</td>\n",
       "      <td>0.50</td>\n",
       "      <td>3.166667</td>\n",
       "      <td>0.375</td>\n",
       "      <td>0.00</td>\n",
       "      <td>2.000000</td>\n",
       "      <td>4.0</td>\n",
       "    </tr>\n",
       "    <tr>\n",
       "      <th>3</th>\n",
       "      <td>Sussex Spaniel</td>\n",
       "      <td>Entity[\"DogBreed\", \"SussexSpaniel\"]</td>\n",
       "      <td>0.1</td>\n",
       "      <td>0.0</td>\n",
       "      <td>0.00</td>\n",
       "      <td>0.0</td>\n",
       "      <td>1.0</td>\n",
       "      <td>0.000000</td>\n",
       "      <td>0.75</td>\n",
       "      <td>2.625</td>\n",
       "      <td>2.75</td>\n",
       "      <td>3.000000</td>\n",
       "      <td>1.500</td>\n",
       "      <td>0.75</td>\n",
       "      <td>3.333333</td>\n",
       "      <td>3.5</td>\n",
       "    </tr>\n",
       "    <tr>\n",
       "      <th>4</th>\n",
       "      <td>Mixed Breed/Unknown</td>\n",
       "      <td>NaN</td>\n",
       "      <td>0.3</td>\n",
       "      <td>0.0</td>\n",
       "      <td>0.50</td>\n",
       "      <td>2.0</td>\n",
       "      <td>0.0</td>\n",
       "      <td>2.000000</td>\n",
       "      <td>0.00</td>\n",
       "      <td>2.750</td>\n",
       "      <td>2.00</td>\n",
       "      <td>2.000000</td>\n",
       "      <td>0.000</td>\n",
       "      <td>0.25</td>\n",
       "      <td>1.833333</td>\n",
       "      <td>1.0</td>\n",
       "    </tr>\n",
       "  </tbody>\n",
       "</table>\n",
       "</div>"
      ],
      "text/plain": [
       "                            Breed  \\\n",
       "0             Mixed Breed/Unknown   \n",
       "1  American Staffordshire Terrier   \n",
       "2            Bernese Mountain Dog   \n",
       "3                  Sussex Spaniel   \n",
       "4             Mixed Breed/Unknown   \n",
       "\n",
       "                                         BreedEntity  \\\n",
       "0                                                NaN   \n",
       "1  Entity[\"DogBreed\", \"AmericanStaffordshireTerri...   \n",
       "2           Entity[\"DogBreed\", \"BerneseMountainDog\"]   \n",
       "3                Entity[\"DogBreed\", \"SussexSpaniel\"]   \n",
       "4                                                NaN   \n",
       "\n",
       "   StrangerDirectedAggression  OwnerDirectedAggression  DogDirectedAggression  \\\n",
       "0                         0.0                      0.0                   0.00   \n",
       "1                         0.0                      0.0                   0.00   \n",
       "2                         0.2                      0.0                   0.25   \n",
       "3                         0.1                      0.0                   0.00   \n",
       "4                         0.3                      0.0                   0.50   \n",
       "\n",
       "   StrangerDirectedFear  DogDirectedFear  NonsocialFear  DogRivalry  \\\n",
       "0                   1.0              0.0       1.000000        0.00   \n",
       "1                   0.0              0.0       0.000000        0.00   \n",
       "2                   0.0              0.0       0.166667        0.25   \n",
       "3                   0.0              1.0       0.000000        0.75   \n",
       "4                   2.0              0.0       2.000000        0.00   \n",
       "\n",
       "   Trainability  Chasing  AttachmentAttentionSeeking  \\\n",
       "0         3.125     2.25                    0.666667   \n",
       "1         1.625     0.00                    1.500000   \n",
       "2         2.125     0.50                    3.166667   \n",
       "3         2.625     2.75                    3.000000   \n",
       "4         2.750     2.00                    2.000000   \n",
       "\n",
       "   SeparationRelatedBehavior  TouchSensitivity  Excitability  EnergyLevel  \n",
       "0                      0.000              0.50      0.666667          2.0  \n",
       "1                      0.750              0.00      3.333333          1.0  \n",
       "2                      0.375              0.00      2.000000          4.0  \n",
       "3                      1.500              0.75      3.333333          3.5  \n",
       "4                      0.000              0.25      1.833333          1.0  "
      ]
     },
     "execution_count": 15,
     "metadata": {},
     "output_type": "execute_result"
    }
   ],
   "source": [
    "df.head()"
   ]
  },
  {
   "cell_type": "code",
   "execution_count": 16,
   "metadata": {},
   "outputs": [
    {
     "data": {
      "text/plain": [
       "(12059, 16)"
      ]
     },
     "execution_count": 16,
     "metadata": {},
     "output_type": "execute_result"
    }
   ],
   "source": [
    "df.shape"
   ]
  },
  {
   "cell_type": "code",
   "execution_count": 17,
   "metadata": {},
   "outputs": [
    {
     "data": {
      "text/plain": [
       "184"
      ]
     },
     "execution_count": 17,
     "metadata": {},
     "output_type": "execute_result"
    }
   ],
   "source": [
    "len(set(df.BreedEntity))"
   ]
  },
  {
   "cell_type": "code",
   "execution_count": 18,
   "metadata": {},
   "outputs": [],
   "source": [
    "df1 = df.groupby(\"BreedEntity\").agg({key:\"mean\" for key in list(df)[2:]})"
   ]
  },
  {
   "cell_type": "code",
   "execution_count": 19,
   "metadata": {},
   "outputs": [],
   "source": [
    "fltparam = {\n",
    "'StrangerDirectedAggression': 2,\n",
    "'OwnerDirectedAggression': 2,\n",
    "'DogDirectedAggression': 2,\n",
    "'StrangerDirectedFear': 2,\n",
    "'DogDirectedFear': 2,\n",
    "'NonsocialFear': 2,\n",
    "'DogRivalry': 2,\n",
    "'Trainability': 2,\n",
    "'Chasing': 2,\n",
    "'AttachmentAttentionSeeking': 2,\n",
    "'SeparationRelatedBehavior': 2,\n",
    "'TouchSensitivity': 2,'Excitability': 2,'EnergyLevel': 2}"
   ]
  },
  {
   "cell_type": "code",
   "execution_count": 20,
   "metadata": {},
   "outputs": [],
   "source": [
    "df2 =df1"
   ]
  },
  {
   "cell_type": "code",
   "execution_count": 21,
   "metadata": {},
   "outputs": [],
   "source": [
    "def filterfunc(fltparam, df3):\n",
    "    for param in fltparam:\n",
    "        df3 = df3[ df3[param] < fltparam[param] + 1.5]\n",
    "        df3 = df3[ fltparam[param] - 1.5 < df3[param]]\n",
    "    return len(df3)    "
   ]
  },
  {
   "cell_type": "code",
   "execution_count": 22,
   "metadata": {},
   "outputs": [
    {
     "data": {
      "text/plain": [
       "(183, 14)"
      ]
     },
     "execution_count": 22,
     "metadata": {},
     "output_type": "execute_result"
    }
   ],
   "source": [
    "df2.shape"
   ]
  },
  {
   "cell_type": "code",
   "execution_count": 23,
   "metadata": {},
   "outputs": [],
   "source": [
    "@app.route('/')\n",
    "def base():\n",
    "    return render_template('index.html')\n",
    "    \n",
    "@app.route('/filter',methods =['POST'])\n",
    "def filter():\n",
    "    params = request.get_json()\n",
    "    return jsonify(filterfunc(params, df2))"
   ]
  },
  {
   "cell_type": "code",
   "execution_count": 24,
   "metadata": {},
   "outputs": [
    {
     "name": "stdout",
     "output_type": "stream",
     "text": [
      " * Serving Flask app \"__main__\" (lazy loading)\n",
      " * Environment: production\n",
      "   WARNING: Do not use the development server in a production environment.\n",
      "   Use a production WSGI server instead.\n",
      " * Debug mode: off\n"
     ]
    },
    {
     "name": "stderr",
     "output_type": "stream",
     "text": [
      " * Running on http://127.0.0.1:5000/ (Press CTRL+C to quit)\n",
      "127.0.0.1 - - [25/Jan/2019 19:45:06] \"GET / HTTP/1.1\" 200 -\n",
      "127.0.0.1 - - [25/Jan/2019 19:45:27] \"POST /filter HTTP/1.1\" 200 -\n",
      "127.0.0.1 - - [25/Jan/2019 19:45:56] \"GET / HTTP/1.1\" 200 -\n"
     ]
    }
   ],
   "source": [
    "if __name__ =='__main__':\n",
    "    app.run()"
   ]
  },
  {
   "cell_type": "code",
   "execution_count": null,
   "metadata": {},
   "outputs": [],
   "source": []
  }
 ],
 "metadata": {
  "kernelspec": {
   "display_name": "Python 3",
   "language": "python",
   "name": "python3"
  },
  "language_info": {
   "codemirror_mode": {
    "name": "ipython",
    "version": 3
   },
   "file_extension": ".py",
   "mimetype": "text/x-python",
   "name": "python",
   "nbconvert_exporter": "python",
   "pygments_lexer": "ipython3",
   "version": "3.6.8"
  }
 },
 "nbformat": 4,
 "nbformat_minor": 2
}
